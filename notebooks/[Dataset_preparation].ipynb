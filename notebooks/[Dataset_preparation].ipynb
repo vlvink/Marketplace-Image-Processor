{
  "nbformat": 4,
  "nbformat_minor": 0,
  "metadata": {
    "colab": {
      "provenance": []
    },
    "kernelspec": {
      "name": "python3",
      "display_name": "Python 3"
    },
    "language_info": {
      "name": "python"
    }
  },
  "cells": [
    {
      "cell_type": "code",
      "execution_count": 2,
      "metadata": {
        "id": "vh02M9YBrQ8W"
      },
      "outputs": [],
      "source": [
        "import numpy as np\n",
        "import pandas as pd"
      ]
    },
    {
      "cell_type": "code",
      "source": [
        "df = pd.read_csv('train.csv')\n",
        "del df['posting_id'], df['image_phash'], df['label_group']\n",
        "df = df.rename(columns={\n",
        "    'title': 'caption'\n",
        "})\n",
        "\n",
        "df.to_csv('ready2train.csv', encoding='utf-8')"
      ],
      "metadata": {
        "id": "Gnpet03MlFrH"
      },
      "execution_count": 9,
      "outputs": []
    }
  ]
}