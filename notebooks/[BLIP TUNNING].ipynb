{
 "cells": [
  {
   "cell_type": "code",
   "execution_count": 1,
   "id": "743ca36d-de20-4ea2-9bb8-b6fbd5f656ff",
   "metadata": {},
   "outputs": [
    {
     "name": "stdout",
     "output_type": "stream",
     "text": [
      "\u001b[33m  WARNING: The script tqdm is installed in '/home/user/.local/bin' which is not on PATH.\n",
      "  Consider adding this directory to PATH or, if you prefer to suppress this warning, use --no-warn-script-location.\u001b[0m\u001b[33m\n",
      "\u001b[0m\u001b[33m  WARNING: The script huggingface-cli is installed in '/home/user/.local/bin' which is not on PATH.\n",
      "  Consider adding this directory to PATH or, if you prefer to suppress this warning, use --no-warn-script-location.\u001b[0m\u001b[33m\n",
      "\u001b[0m\u001b[33m  WARNING: The script transformers-cli is installed in '/home/user/.local/bin' which is not on PATH.\n",
      "  Consider adding this directory to PATH or, if you prefer to suppress this warning, use --no-warn-script-location.\u001b[0m\u001b[33m\n",
      "\u001b[0m"
     ]
    }
   ],
   "source": [
    "!pip install -q transformers"
   ]
  },
  {
   "cell_type": "code",
   "execution_count": 2,
   "id": "4e2fd178-2a5c-4bec-9462-0d1747905b60",
   "metadata": {},
   "outputs": [
    {
     "name": "stdout",
     "output_type": "stream",
     "text": [
      "Defaulting to user installation because normal site-packages is not writeable\n",
      "Requirement already satisfied: ipywidgets in /usr/lib/python3/dist-packages (6.0.0)\n",
      "Collecting ipywidgets\n",
      "  Downloading ipywidgets-8.1.5-py3-none-any.whl (139 kB)\n",
      "\u001b[2K     \u001b[90m━━━━━━━━━━━━━━━━━━━━━━━━━━━━━━━━━━━━━━━\u001b[0m \u001b[32m139.8/139.8 KB\u001b[0m \u001b[31m1.6 MB/s\u001b[0m eta \u001b[36m0:00:00\u001b[0ma \u001b[36m0:00:01\u001b[0m\n",
      "\u001b[?25hCollecting jupyterlab-widgets~=3.0.12\n",
      "  Downloading jupyterlab_widgets-3.0.13-py3-none-any.whl (214 kB)\n",
      "\u001b[2K     \u001b[90m━━━━━━━━━━━━━━━━━━━━━━━━━━━━━━━━━━━━━━━\u001b[0m \u001b[32m214.4/214.4 KB\u001b[0m \u001b[31m6.2 MB/s\u001b[0m eta \u001b[36m0:00:00\u001b[0m\n",
      "\u001b[?25hRequirement already satisfied: traitlets>=4.3.1 in ./.local/lib/python3.10/site-packages (from ipywidgets) (5.9.0)\n",
      "Collecting comm>=0.1.3\n",
      "  Downloading comm-0.2.2-py3-none-any.whl (7.2 kB)\n",
      "Collecting widgetsnbextension~=4.0.12\n",
      "  Downloading widgetsnbextension-4.0.13-py3-none-any.whl (2.3 MB)\n",
      "\u001b[2K     \u001b[90m━━━━━━━━━━━━━━━━━━━━━━━━━━━━━━━━━━━━━━━━\u001b[0m \u001b[32m2.3/2.3 MB\u001b[0m \u001b[31m14.6 MB/s\u001b[0m eta \u001b[36m0:00:00\u001b[0m00:01\u001b[0m00:01\u001b[0m\n",
      "\u001b[?25hRequirement already satisfied: ipython>=6.1.0 in /usr/lib/python3/dist-packages (from ipywidgets) (7.31.1)\n",
      "Installing collected packages: widgetsnbextension, jupyterlab-widgets, comm, ipywidgets\n",
      "Successfully installed comm-0.2.2 ipywidgets-8.1.5 jupyterlab-widgets-3.0.13 widgetsnbextension-4.0.13\n",
      "Note: you may need to restart the kernel to use updated packages.\n"
     ]
    }
   ],
   "source": [
    "pip install --upgrade ipywidgets"
   ]
  },
  {
   "cell_type": "code",
   "execution_count": 3,
   "id": "3b1e173e-1f07-42af-a321-e8e29ecef980",
   "metadata": {},
   "outputs": [
    {
     "name": "stdout",
     "output_type": "stream",
     "text": [
      "\u001b[33m  WARNING: The scripts accelerate, accelerate-config, accelerate-estimate-memory, accelerate-launch and accelerate-merge-weights are installed in '/home/user/.local/bin' which is not on PATH.\n",
      "  Consider adding this directory to PATH or, if you prefer to suppress this warning, use --no-warn-script-location.\u001b[0m\u001b[33m\n",
      "\u001b[0mNote: you may need to restart the kernel to use updated packages.\n"
     ]
    }
   ],
   "source": [
    "pip install -q peft"
   ]
  },
  {
   "cell_type": "code",
   "execution_count": 1,
   "id": "7d2f41ad-7f5f-4b8e-8a5f-ac8d275def4c",
   "metadata": {},
   "outputs": [],
   "source": [
    "from transformers import AutoProcessor, BlipForConditionalGeneration\n",
    "import torch\n",
    "import torch.nn as nn\n",
    "from torch.utils.data import Dataset, DataLoader\n",
    "import matplotlib.pyplot as plt\n",
    "from peft import LoraConfig, get_peft_model\n",
    "from torchvision import transforms\n",
    "import pandas as pd\n",
    "from sklearn.model_selection import train_test_split\n",
    "import torch.optim as optim\n",
    "from tqdm import tqdm as tqdm\n",
    "from PIL import Image\n",
    "import time"
   ]
  },
  {
   "cell_type": "code",
   "execution_count": 5,
   "id": "ff68274b-75a2-40d8-97a3-2d96df6974f1",
   "metadata": {},
   "outputs": [
    {
     "name": "stdout",
     "output_type": "stream",
     "text": [
      "ZIP файл успешно распакован в Images_final\n"
     ]
    }
   ],
   "source": [
    "import os\n",
    "import zipfile\n",
    "\n",
    "def unzip_file(zip_path, extract_path):\n",
    "    # Проверка, существует ли ZIP-файл\n",
    "    if not os.path.isfile(zip_path):\n",
    "        print(f\"ZIP файл не найден: {zip_path}\")\n",
    "        return\n",
    "\n",
    "    # Создание директории для извлечения, если она не существует\n",
    "    os.makedirs(extract_path, exist_ok=True)\n",
    "\n",
    "    # Распаковка ZIP-файла\n",
    "    with zipfile.ZipFile(zip_path, 'r') as zipf:\n",
    "        zipf.extractall(extract_path)\n",
    "        print(f\"ZIP файл успешно распакован в {extract_path}\")\n",
    "\n",
    "# Пример использования\n",
    "zip_file_path = 'output.zip'  # Замените на путь к вашему ZIP-файлу\n",
    "output_folder = 'Images_final'  # Замените на путь к папке для распаковки\n",
    "\n",
    "unzip_file(zip_file_path, output_folder)"
   ]
  },
  {
   "cell_type": "code",
   "execution_count": 2,
   "id": "41cfce58-4615-4e6d-a51a-32ad289b27f0",
   "metadata": {
    "scrolled": true
   },
   "outputs": [
    {
     "name": "stderr",
     "output_type": "stream",
     "text": [
      "/home/user/.local/lib/python3.10/site-packages/transformers/tokenization_utils_base.py:1601: FutureWarning: `clean_up_tokenization_spaces` was not set. It will be set to `True` by default. This behavior will be depracted in transformers v4.45, and will be then set to `False` by default. For more details check this issue: https://github.com/huggingface/transformers/issues/31884\n",
      "  warnings.warn(\n"
     ]
    }
   ],
   "source": [
    "processor = AutoProcessor.from_pretrained(\"Salesforce/blip-image-captioning-base\")\n",
    "#model = BlipForConditionalGeneration.from_pretrained(\"Salesforce/blip-image-captioning-base\")"
   ]
  },
  {
   "cell_type": "code",
   "execution_count": 3,
   "id": "a1cb0b47-2002-4b3b-bae5-d8d43c21b0d7",
   "metadata": {},
   "outputs": [
    {
     "data": {
      "text/html": [
       "<div>\n",
       "<style scoped>\n",
       "    .dataframe tbody tr th:only-of-type {\n",
       "        vertical-align: middle;\n",
       "    }\n",
       "\n",
       "    .dataframe tbody tr th {\n",
       "        vertical-align: top;\n",
       "    }\n",
       "\n",
       "    .dataframe thead th {\n",
       "        text-align: right;\n",
       "    }\n",
       "</style>\n",
       "<table border=\"1\" class=\"dataframe\">\n",
       "  <thead>\n",
       "    <tr style=\"text-align: right;\">\n",
       "      <th></th>\n",
       "      <th>image</th>\n",
       "      <th>caption</th>\n",
       "    </tr>\n",
       "  </thead>\n",
       "  <tbody>\n",
       "    <tr>\n",
       "      <th>50</th>\n",
       "      <td>007d97e52d6da9ed8fc0eeb8cf4aab84.jpg</td>\n",
       "      <td>HHG Kacamata Thug Life Double Mosaic Sunglasse...</td>\n",
       "    </tr>\n",
       "  </tbody>\n",
       "</table>\n",
       "</div>"
      ],
      "text/plain": [
       "                                   image  \\\n",
       "50  007d97e52d6da9ed8fc0eeb8cf4aab84.jpg   \n",
       "\n",
       "                                              caption  \n",
       "50  HHG Kacamata Thug Life Double Mosaic Sunglasse...  "
      ]
     },
     "execution_count": 3,
     "metadata": {},
     "output_type": "execute_result"
    }
   ],
   "source": [
    "path = \"ready2train10000.csv\"\n",
    "num_samples = 10000\n",
    "preready_dataset = (pd.read_csv(path))[:num_samples]\n",
    "del preready_dataset['Unnamed: 0']\n",
    "preready_dataset.iloc[[50]]"
   ]
  },
  {
   "cell_type": "code",
   "execution_count": 4,
   "id": "b3382593-467e-462a-bbda-d7d07a6144ee",
   "metadata": {},
   "outputs": [
    {
     "data": {
      "text/plain": [
       "10000"
      ]
     },
     "execution_count": 4,
     "metadata": {},
     "output_type": "execute_result"
    }
   ],
   "source": [
    "import os\n",
    "\n",
    "im_arr = os.listdir(path=\"Images_final/\")\n",
    "len(im_arr)"
   ]
  },
  {
   "cell_type": "code",
   "execution_count": 5,
   "id": "9000154e-110f-4f8a-bea0-a3254966612e",
   "metadata": {},
   "outputs": [
    {
     "data": {
      "text/plain": [
       "(8000, 2000)"
      ]
     },
     "execution_count": 5,
     "metadata": {},
     "output_type": "execute_result"
    }
   ],
   "source": [
    "train_set = preready_dataset[:int(0.8*num_samples)]\n",
    "val_set = preready_dataset[int(0.8*num_samples):]\n",
    "\n",
    "train_set = train_set.reset_index()\n",
    "del train_set['index']\n",
    "val_set = val_set.reset_index()\n",
    "del val_set['index']\n",
    "\n",
    "len(train_set), len(val_set)"
   ]
  },
  {
   "cell_type": "code",
   "execution_count": 6,
   "id": "9fcfa851-870e-45bd-b407-5e9573bb6c79",
   "metadata": {},
   "outputs": [],
   "source": [
    "class BLIPTunningDataset(Dataset):\n",
    "  def __init__(self, data, processor):\n",
    "    self.data = data\n",
    "    self.processor = processor\n",
    "\n",
    "  def __len__(self):\n",
    "    return len(self.data)\n",
    "\n",
    "  def __getitem__(self, idx):\n",
    "    item = self.data.iloc[[idx]]\n",
    "    image = Image.open(f\"Images_final/{item['image'][idx]}\")\n",
    "    caption = item['caption'][idx]\n",
    "    encoding = self.processor(images=image, text=caption, padding=\"max_length\", return_tensors=\"pt\")\n",
    "    encoding = {k:v.squeeze() for k,v in encoding.items()}\n",
    "    return encoding"
   ]
  },
  {
   "cell_type": "code",
   "execution_count": 7,
   "id": "b5663cd6-0569-494e-9b0a-b9802c95d109",
   "metadata": {},
   "outputs": [
    {
     "data": {
      "text/plain": [
       "(500, 125)"
      ]
     },
     "execution_count": 7,
     "metadata": {},
     "output_type": "execute_result"
    }
   ],
   "source": [
    "train_dataset = BLIPTunningDataset(train_set, processor)\n",
    "val_dataset = BLIPTunningDataset(val_set, processor)\n",
    "\n",
    "train_dataloader = DataLoader(train_dataset, batch_size=16, shuffle=True)\n",
    "val_dataloader = DataLoader(val_dataset, batch_size=16, shuffle=False)\n",
    "\n",
    "len(train_dataloader), len(val_dataloader)"
   ]
  },
  {
   "cell_type": "code",
   "execution_count": 8,
   "id": "b6526aa4-9851-42f8-852e-b2b731342f0a",
   "metadata": {},
   "outputs": [
    {
     "name": "stdout",
     "output_type": "stream",
     "text": [
      "trainable params: 13,436,800 || all params: 260,850,876 || trainable%: 5.1511\n"
     ]
    }
   ],
   "source": [
    "config = LoraConfig(\n",
    "    r=32,\n",
    "    lora_alpha=32,\n",
    "    lora_dropout=0.10,\n",
    "    bias=\"none\",\n",
    "    target_modules='all-linear'\n",
    ")\n",
    "model = get_peft_model(model, config)\n",
    "model.print_trainable_parameters()"
   ]
  },
  {
   "cell_type": "code",
   "execution_count": 9,
   "id": "db45a80a-57e7-4e00-9d91-51f07a656104",
   "metadata": {},
   "outputs": [],
   "source": [
    "optimizer = torch.optim.AdamW(model.parameters(), lr=5e-5)\n",
    "\n",
    "device = \"cuda\" if torch.cuda.is_available() else \"cpu\"\n",
    "model.to(device)\n",
    "\n",
    "num_epochs = 20"
   ]
  },
  {
   "cell_type": "code",
   "execution_count": 10,
   "id": "d9c8e675-d095-4cdf-8c9d-d9b8a6d06f9a",
   "metadata": {
    "scrolled": true
   },
   "outputs": [
    {
     "name": "stdout",
     "output_type": "stream",
     "text": [
      "------------------------------------------------------------------------\n",
      "Epoch: 0\n"
     ]
    },
    {
     "name": "stderr",
     "output_type": "stream",
     "text": [
      "We strongly recommend passing in an `attention_mask` since your input_ids may be padded. See https://huggingface.co/docs/transformers/troubleshooting#incorrect-output-when-padding-tokens-arent-masked.\n"
     ]
    },
    {
     "name": "stdout",
     "output_type": "stream",
     "text": [
      "Train loss: 2.834901602625841\n",
      "Val loss: 0.188395404100418\n",
      "Time spent per epoch: 708.2201373577118\n",
      "------------------------------------------------------------------------\n",
      "------------------------------------------------------------------------\n",
      "Epoch: 1\n",
      "Train loss: 0.17677638179063793\n",
      "Val loss: 0.17124046653509137\n",
      "Time spent per epoch: 709.4704930782318\n",
      "------------------------------------------------------------------------\n",
      "------------------------------------------------------------------------\n",
      "Epoch: 2\n",
      "Train loss: 0.16431988807022577\n",
      "Val loss: 0.16264417767524722\n",
      "Time spent per epoch: 708.4514873027802\n",
      "------------------------------------------------------------------------\n",
      "------------------------------------------------------------------------\n",
      "Epoch: 3\n",
      "Train loss: 0.15448364987969412\n",
      "Val loss: 0.15973440152406698\n",
      "Time spent per epoch: 708.7474780082703\n",
      "------------------------------------------------------------------------\n",
      "------------------------------------------------------------------------\n",
      "Epoch: 4\n",
      "Train loss: 0.14784103029966353\n",
      "Val loss: 0.15152548360824583\n",
      "Time spent per epoch: 709.6117329597473\n",
      "------------------------------------------------------------------------\n",
      "------------------------------------------------------------------------\n",
      "Epoch: 5\n",
      "Train loss: 0.14148778724670408\n",
      "Val loss: 0.1479175931811332\n",
      "Time spent per epoch: 707.8933811187744\n",
      "------------------------------------------------------------------------\n",
      "------------------------------------------------------------------------\n",
      "Epoch: 6\n",
      "Train loss: 0.13634018695354458\n",
      "Val loss: 0.14501235240697857\n",
      "Time spent per epoch: 709.3681445121765\n",
      "------------------------------------------------------------------------\n",
      "------------------------------------------------------------------------\n",
      "Epoch: 7\n",
      "Train loss: 0.1315207744836807\n",
      "Val loss: 0.1424637529850006\n",
      "Time spent per epoch: 708.2526812553406\n",
      "------------------------------------------------------------------------\n",
      "------------------------------------------------------------------------\n",
      "Epoch: 8\n",
      "Train loss: 0.1269031051099301\n",
      "Val loss: 0.1403092970252037\n",
      "Time spent per epoch: 709.3538701534271\n",
      "------------------------------------------------------------------------\n",
      "------------------------------------------------------------------------\n",
      "Epoch: 9\n",
      "Train loss: 0.12230584244430076\n",
      "Val loss: 0.13829812848567966\n",
      "Time spent per epoch: 709.1258890628815\n",
      "------------------------------------------------------------------------\n",
      "------------------------------------------------------------------------\n",
      "Epoch: 10\n",
      "Train loss: 0.11773907953500742\n",
      "Val loss: 0.13656628364324563\n",
      "Time spent per epoch: 708.7505686283112\n",
      "------------------------------------------------------------------------\n",
      "------------------------------------------------------------------------\n",
      "Epoch: 11\n",
      "Train loss: 0.11313820017874238\n",
      "Val loss: 0.13516138255596163\n",
      "Time spent per epoch: 708.4729309082031\n",
      "------------------------------------------------------------------------\n",
      "------------------------------------------------------------------------\n",
      "Epoch: 12\n",
      "Train loss: 0.10885823492705822\n",
      "Val loss: 0.1345449946522713\n",
      "Time spent per epoch: 709.5411903858185\n",
      "------------------------------------------------------------------------\n",
      "------------------------------------------------------------------------\n",
      "Epoch: 13\n",
      "Train loss: 0.10462505575269461\n",
      "Val loss: 0.1334080722332001\n",
      "Time spent per epoch: 708.0642068386078\n",
      "------------------------------------------------------------------------\n",
      "------------------------------------------------------------------------\n",
      "Epoch: 14\n",
      "Train loss: 0.10050139623880391\n",
      "Val loss: 0.1333003367781639\n",
      "Time spent per epoch: 721.2812697887421\n",
      "------------------------------------------------------------------------\n",
      "------------------------------------------------------------------------\n",
      "Epoch: 15\n",
      "Train loss: 0.09647783290594816\n",
      "Val loss: 0.1321133206486702\n",
      "Time spent per epoch: 718.7233707904816\n",
      "------------------------------------------------------------------------\n",
      "------------------------------------------------------------------------\n",
      "Epoch: 16\n",
      "Train loss: 0.09253418587148196\n",
      "Val loss: 0.13254361909627912\n",
      "Time spent per epoch: 730.8911271095276\n",
      "------------------------------------------------------------------------\n",
      "------------------------------------------------------------------------\n",
      "Epoch: 17\n",
      "Train loss: 0.08863967990130195\n",
      "Val loss: 0.13268330341577525\n",
      "Time spent per epoch: 722.7266855239868\n",
      "------------------------------------------------------------------------\n",
      "------------------------------------------------------------------------\n",
      "Epoch: 18\n",
      "Train loss: 0.08474719707667824\n",
      "Val loss: 0.13312087392807004\n",
      "Time spent per epoch: 715.309653043747\n",
      "------------------------------------------------------------------------\n",
      "------------------------------------------------------------------------\n",
      "Epoch: 19\n",
      "Train loss: 0.08091953254491094\n",
      "Val loss: 0.13348656183481222\n",
      "Time spent per epoch: 716.0899455547333\n",
      "------------------------------------------------------------------------\n"
     ]
    }
   ],
   "source": [
    "train_loss_arr = []\n",
    "val_loss_arr = []\n",
    "for epoch in range(num_epochs):\n",
    "    model.train()\n",
    "    print(\"------------------------------------------------------------------------\")\n",
    "    print(f\"Epoch: {epoch}\")\n",
    "    start_timepoint = time.time()\n",
    "    train_loss = 0\n",
    "    val_loss = 0\n",
    "\n",
    "    for idx, batch in enumerate(train_dataloader):\n",
    "        input_ids = batch.pop(\"input_ids\").to(device)\n",
    "        pixel_values = batch.pop(\"pixel_values\").to(device)\n",
    "\n",
    "        outputs = model(input_ids=input_ids,\n",
    "                        pixel_values=pixel_values,\n",
    "                        labels=input_ids)\n",
    "    \n",
    "        loss = outputs.loss\n",
    "        train_loss += loss.item() / len(train_dataloader)\n",
    "\n",
    "\n",
    "        loss.backward()\n",
    "\n",
    "        optimizer.step()\n",
    "        optimizer.zero_grad()\n",
    "    print(f\"Train loss: {train_loss}\")\n",
    "    train_loss_arr.append(train_loss)\n",
    "  \n",
    "    with torch.no_grad():\n",
    "        for idx, batch in enumerate(val_dataloader):\n",
    "            input_ids = batch.pop(\"input_ids\").to(device)\n",
    "            pixel_values = batch.pop(\"pixel_values\").to(device)\n",
    "\n",
    "            outputs = model(input_ids=input_ids,\n",
    "                            pixel_values=pixel_values,\n",
    "                            labels=input_ids)\n",
    "    \n",
    "            loss = outputs.loss\n",
    "            val_loss += loss.item() / len(val_dataloader)\n",
    "    print(\"Val loss:\", val_loss)\n",
    "    val_loss_arr.append(val_loss)\n",
    "    end_timepoint = time.time()\n",
    "    print(f\"Time spent per epoch: {end_timepoint-start_timepoint}\")\n",
    "    print(\"------------------------------------------------------------------------\")"
   ]
  },
  {
   "cell_type": "code",
   "execution_count": 11,
   "id": "33c30d95-9a47-4e24-9c93-2770e8fb6b18",
   "metadata": {},
   "outputs": [],
   "source": [
    "model.save_pretrained('training/caption')"
   ]
  },
  {
   "cell_type": "code",
   "execution_count": 12,
   "id": "22914cf4-3893-4559-9587-c58b1654b590",
   "metadata": {},
   "outputs": [
    {
     "data": {
      "image/png": "[encoded data removed]",
      "text/plain": [
       "<Figure size 720x432 with 1 Axes>"
      ]
     },
     "metadata": {
      "needs_background": "light"
     },
     "output_type": "display_data"
    }
   ],
   "source": [
    "def plot_losses(train_loss_arr, val_loss_arr):\n",
    "    # Определяем количество эпох (длина массивов)\n",
    "    epochs = range(1, len(train_loss_arr) + 1)\n",
    "    \n",
    "    # Создаем график\n",
    "    plt.figure(figsize=(10, 6))\n",
    "    \n",
    "    # График тренировочного лосса\n",
    "    plt.plot(epochs, train_loss_arr, label='Train Loss', color='blue', marker='o')\n",
    "    \n",
    "    # График валидационного лосса\n",
    "    plt.plot(epochs, val_loss_arr, label='Validation Loss', color='orange', marker='o')\n",
    "    \n",
    "    # Добавляем заголовки и метки осей\n",
    "    plt.title('Training and Validation Loss Over Epochs')\n",
    "    plt.xlabel('Epochs')\n",
    "    plt.ylabel('Loss')\n",
    "    \n",
    "    # Легенда\n",
    "    plt.legend(loc='best')\n",
    "    \n",
    "    # Отображаем график\n",
    "    plt.grid(True)\n",
    "    plt.show()\n",
    "\n",
    "plot_losses(train_loss_arr, val_loss_arr)"
   ]
  },
  {
   "cell_type": "code",
   "execution_count": 3,
   "id": "f468658b-8fe5-448c-97a5-7074b534ea5b",
   "metadata": {},
   "outputs": [
    {
     "name": "stderr",
     "output_type": "stream",
     "text": [
      "/usr/lib/python3/dist-packages/torch/_utils.py:776: UserWarning: TypedStorage is deprecated. It will be removed in the future and UntypedStorage will be the only storage class. This should only matter to you if you are using storages directly.  To access UntypedStorage directly, use tensor.untyped_storage() instead of tensor.storage()\n",
      "  return self.fget.__get__(instance, owner)()\n"
     ]
    }
   ],
   "source": [
    "model = BlipForConditionalGeneration.from_pretrained('training/caption')"
   ]
  },
  {
   "cell_type": "code",
   "execution_count": 4,
   "id": "1431e49b-6af9-42a1-9a00-e7f35548e4a9",
   "metadata": {},
   "outputs": [
    {
     "data": {
      "image/png": "[encoded data removed]",
      "text/plain": [
       "<Figure size 432x288 with 1 Axes>"
      ]
     },
     "metadata": {
      "needs_background": "light"
     },
     "output_type": "display_data"
    }
   ],
   "source": [
    "input_image = Image.open(\"img_with_applied_mask.png\")\n",
    "plt.imshow(input_image)\n",
    "plt.show()"
   ]
  },
  {
   "cell_type": "code",
   "execution_count": 5,
   "id": "b6463dfb-d561-432f-93b7-e38b0987e300",
   "metadata": {},
   "outputs": [
    {
     "name": "stdout",
     "output_type": "stream",
     "text": [
      "bdn kalung gem dan kunci dan kunci\n"
     ]
    }
   ],
   "source": [
    "# prepare image for the model\n",
    "device = \"cuda\" if torch.cuda.is_available() else \"cpu\"\n",
    "model.eval()\n",
    "inputs = processor(images=input_image, return_tensors=\"pt\")\n",
    "pixel_values = inputs.pixel_values\n",
    "\n",
    "generated_ids = model.generate(pixel_values=pixel_values, max_length=200)\n",
    "generated_caption = processor.batch_decode(generated_ids, skip_special_tokens=True)[0]\n",
    "print(generated_caption)"
   ]
  },
  {
   "cell_type": "code",
   "execution_count": 6,
   "id": "13ad67f2-b4a5-44a4-9e61-c09838025430",
   "metadata": {},
   "outputs": [
    {
     "name": "stderr",
     "output_type": "stream",
     "text": [
      "/home/user/.local/lib/python3.10/site-packages/transformers/generation/utils.py:1258: UserWarning: Using the model-agnostic default `max_length` (=20) to control the generation length. We recommend setting `max_new_tokens` to control the maximum length of the generation.\n",
      "  warnings.warn(\n"
     ]
    },
    {
     "name": "stdout",
     "output_type": "stream",
     "text": [
      "['Bdn gem necklace and keys and keys']\n"
     ]
    }
   ],
   "source": [
    "from transformers import AutoModelForSeq2SeqLM, AutoTokenizer\n",
    "\n",
    "model = AutoModelForSeq2SeqLM.from_pretrained(\"google/madlad400-3b-mt\")\n",
    "tokenizer = AutoTokenizer.from_pretrained(\"google/madlad400-3b-mt\")\n",
    "\n",
    "inputs = tokenizer(\"<2en> bdn kalung gem dan kunci dan kunci\", return_tensors=\"pt\")\n",
    "outputs = model.generate(**inputs)\n",
    "print(tokenizer.batch_decode(outputs, skip_special_tokens=True))"
   ]
  },
  {
   "cell_type": "code",
   "execution_count": null,
   "id": "3d72dde4-c100-471d-8bc1-7a34f313c587",
   "metadata": {},
   "outputs": [],
   "source": []
  }
 ],
 "metadata": {
  "kernelspec": {
   "display_name": "Python 3 (ipykernel)",
   "language": "python",
   "name": "python3"
  },
  "language_info": {
   "codemirror_mode": {
    "name": "ipython",
    "version": 3
   },
   "file_extension": ".py",
   "mimetype": "text/x-python",
   "name": "python",
   "nbconvert_exporter": "python",
   "pygments_lexer": "ipython3",
   "version": "3.10.12"
  }
 },
 "nbformat": 4,
 "nbformat_minor": 5
}
